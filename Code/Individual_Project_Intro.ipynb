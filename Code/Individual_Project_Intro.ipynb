{
 "cells": [
  {
   "cell_type": "markdown",
   "metadata": {},
   "source": [
    "Before you turn this problem in, make sure everything runs as expected. First, **restart the kernel** (in the menubar, select Kernel$\\rightarrow$Restart) and then **run all cells** (in the menubar, select Cell$\\rightarrow$Run All).\n",
    "\n",
    "Make sure you fill in any place that says `YOUR CODE HERE` or \"YOUR ANSWER HERE\", as well as your name and collaborators below:"
   ]
  },
  {
   "cell_type": "code",
   "execution_count": null,
   "metadata": {},
   "outputs": [],
   "source": [
    "NAME = \"\"\n",
    "COLLABORATORS = \"\""
   ]
  },
  {
   "cell_type": "markdown",
   "metadata": {},
   "source": [
    "---"
   ]
  },
  {
   "cell_type": "markdown",
   "metadata": {},
   "source": [
    "# Data Science Individual Project\n",
    "## Objective\n",
    "\n",
    "Provide a data-driven solution to a problem that excites you using the tools discussed (or related to) in this course.\n",
    "\n",
    "## Topics & Datasets\n",
    "The topic and dataset **must be different** with your group project final topic. \n",
    "\n",
    "## Tasks\n",
    "For your project, you should:\n",
    "- Pick an issue/problem that excites you\n",
    "- Create at least four questions in the topic/issue/problem to help your solve the problem\n",
    "- Select or create datasets\n",
    "- Familiarize yourself with that data, if necessary:\n",
    "    - data munging\n",
    "    - feature engineering\n",
    "- **Choose proper model to quantitative analyze your datasets**\n",
    "    - Train/Fit the model by the datasets\n",
    "    - Potential Methods: regression, classification, clustering, Natural language processing\n",
    "    - Potential Tools: SciKit, TensorFlow (tf), ...\n",
    "- Analyze results\n",
    "- Future work\n",
    "- Reference\n",
    "\n",
    "## Deliverables\n",
    "Deliverables for your project:\n",
    "\n",
    "- Draft of report: \n",
    "    - Required: draft of introduction, datasets, methodology. \n",
    "    - Optional: draft of result, discussion\n",
    "\n",
    "Due 3/30 (Sunday), at 11:59 pm\n",
    "\n",
    "More details about submission will be released before the due\n",
    "\n",
    "- Final report: introduction, datasets, methodology, results, discussion/suggestion, reference + codes\n",
    "\n",
    "The last lecture day (4/8) at 11:59 pm\n",
    "\n",
    "More details about the requirements of report will be release before the due\n",
    "\n",
    "\n",
    "\n",
    "\n",
    "## Rubric\n",
    "|Category | Explanation|\n",
    "|--|--|\n",
    "|Introduction|Why was the project undertaken? What was the research question, the tested hypothesis or the purpose of the research?|\n",
    "|Selection of Data|What is the source of the dataset? Characteristics of data? Any munging, imputation, or feature engineering?|\n",
    "|Methods|What model/method were used in answering the research question?|\n",
    "|Results|What answer was found to the research question; what did the study find? Any visualizations?|\n",
    "|Discussion|What might the answer imply and why does it matter? How does it fit in with what other researchers have found? What are the perspectives for future research? |\n",
    "|Coding & Reference|Clear citation at end of the report. ipynb file with clear comments and datafile.|\n",
    "\n",
    "Rubric based on the IMRAD:https://en.wikipedia.org/wiki/IMRAD\n"
   ]
  },
  {
   "cell_type": "markdown",
   "metadata": {},
   "source": [
    "## Colab\n",
    "\n",
    "Google Colab, or Colaboratory, is a free browser-based environment for writing and running Python code in the cloud.\n",
    "\n",
    "It is a powerful tool that allows users to collaborate on projects seamlessly.\n",
    "\n",
    "https://colab.research.google.com/"
   ]
  },
  {
   "cell_type": "code",
   "execution_count": null,
   "metadata": {},
   "outputs": [],
   "source": []
  }
 ],
 "metadata": {
  "kernelspec": {
   "display_name": "Python 3",
   "language": "python",
   "name": "python3"
  },
  "language_info": {
   "codemirror_mode": {
    "name": "ipython",
    "version": 3
   },
   "file_extension": ".py",
   "mimetype": "text/x-python",
   "name": "python",
   "nbconvert_exporter": "python",
   "pygments_lexer": "ipython3",
   "version": "3.6.10"
  }
 },
 "nbformat": 4,
 "nbformat_minor": 2
}
